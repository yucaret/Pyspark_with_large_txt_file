{
 "cells": [
  {
   "cell_type": "markdown",
   "id": "429d42d5",
   "metadata": {},
   "source": [
    "# Pyspark with Large Txt Files"
   ]
  },
  {
   "cell_type": "markdown",
   "id": "23f30a59",
   "metadata": {},
   "source": [
    "## Libreries"
   ]
  },
  {
   "cell_type": "code",
   "execution_count": 64,
   "id": "a05018e9",
   "metadata": {},
   "outputs": [],
   "source": [
    "import pandas as pd\n",
    "from pyspark.sql import SparkSession\n",
    "import pyspark.sql.functions as pyspfunct"
   ]
  },
  {
   "cell_type": "markdown",
   "id": "c5d9170a",
   "metadata": {},
   "source": [
    "## Creamos la sesion de spark"
   ]
  },
  {
   "cell_type": "code",
   "execution_count": 7,
   "id": "23ac57e1",
   "metadata": {},
   "outputs": [],
   "source": [
    "sc = SparkSession.builder.appName(\"PysparkLargeTxt\").config (\"spark.sql.shuffle.partitions\", \"50\").config(\"spark.driver.maxResultSize\",\"5g\").config (\"spark.sql.execution.arrow.enabled\", \"true\").getOrCreate()"
   ]
  },
  {
   "cell_type": "markdown",
   "id": "3ac98fa0",
   "metadata": {},
   "source": [
    "## Cargamos los archivos de texto"
   ]
  },
  {
   "cell_type": "code",
   "execution_count": 151,
   "id": "6e5e9586",
   "metadata": {},
   "outputs": [],
   "source": [
    "df_boletero_1 = sc.read.text('C:/Users/WIN/Pyspark_Codes/1_input/ibm1-834953.lst')\n",
    "df_boletero_2 = sc.read.text('C:/Users/WIN/Pyspark_Codes/1_input/ibm2-834953.lst')"
   ]
  },
  {
   "cell_type": "markdown",
   "id": "9814a86b",
   "metadata": {},
   "source": [
    "## Verificamos las columnas que contiene cada dataset"
   ]
  },
  {
   "cell_type": "code",
   "execution_count": 152,
   "id": "0c0f8e20",
   "metadata": {},
   "outputs": [
    {
     "name": "stdout",
     "output_type": "stream",
     "text": [
      "root\n",
      " |-- value: string (nullable = true)\n",
      "\n"
     ]
    }
   ],
   "source": [
    "df_boletero_1.printSchema()"
   ]
  },
  {
   "cell_type": "code",
   "execution_count": 153,
   "id": "7bedd395",
   "metadata": {},
   "outputs": [
    {
     "name": "stdout",
     "output_type": "stream",
     "text": [
      "root\n",
      " |-- value: string (nullable = true)\n",
      "\n"
     ]
    }
   ],
   "source": [
    "df_boletero_2.printSchema()"
   ]
  },
  {
   "cell_type": "markdown",
   "id": "7558d53b",
   "metadata": {},
   "source": [
    "## Verificamos la cantidad de registros por cada dataset"
   ]
  },
  {
   "cell_type": "code",
   "execution_count": 147,
   "id": "81f375a4",
   "metadata": {},
   "outputs": [
    {
     "data": {
      "text/plain": [
       "20000"
      ]
     },
     "execution_count": 147,
     "metadata": {},
     "output_type": "execute_result"
    }
   ],
   "source": [
    "df_boletero_2.count()"
   ]
  },
  {
   "cell_type": "code",
   "execution_count": 148,
   "id": "e22025ff",
   "metadata": {},
   "outputs": [
    {
     "data": {
      "text/plain": [
       "60196"
      ]
     },
     "execution_count": 148,
     "metadata": {},
     "output_type": "execute_result"
    }
   ],
   "source": [
    "df_boletero_2.count()"
   ]
  },
  {
   "cell_type": "markdown",
   "id": "3122088f",
   "metadata": {},
   "source": [
    "## Vemos los datos que contiene cada dataset"
   ]
  },
  {
   "cell_type": "code",
   "execution_count": 156,
   "id": "93dc1572",
   "metadata": {},
   "outputs": [
    {
     "name": "stdout",
     "output_type": "stream",
     "text": [
      "+--------------------+\n",
      "|               value|\n",
      "+--------------------+\n",
      "|12861368HUAMAN RO...|\n",
      "|10002867OGOSI ATU...|\n",
      "|10002866OGOSI CON...|\n",
      "|10002865RUIZ ROMA...|\n",
      "|10002864CIPRIANO ...|\n",
      "+--------------------+\n",
      "only showing top 5 rows\n",
      "\n"
     ]
    }
   ],
   "source": [
    "df_boletero_1.show(5)"
   ]
  },
  {
   "cell_type": "code",
   "execution_count": 155,
   "id": "4c5ddf2f",
   "metadata": {},
   "outputs": [
    {
     "name": "stdout",
     "output_type": "stream",
     "text": [
      "+--------------------+\n",
      "|               value|\n",
      "+--------------------+\n",
      "|10600738INCA ISUI...|\n",
      "|10834151ZAMALLOA ...|\n",
      "|13001679CABRERA R...|\n",
      "|13001677CABRERA R...|\n",
      "|13001676CABRERA R...|\n",
      "+--------------------+\n",
      "only showing top 5 rows\n",
      "\n"
     ]
    }
   ],
   "source": [
    "df_boletero_2.show(5)"
   ]
  },
  {
   "cell_type": "markdown",
   "id": "cedd849a",
   "metadata": {},
   "source": [
    "## Separamos la información necesaria de la gran columna \"value\""
   ]
  },
  {
   "cell_type": "code",
   "execution_count": 158,
   "id": "072b087e",
   "metadata": {},
   "outputs": [],
   "source": [
    "df_boletero_2 = df_boletero_2.withColumn('suministro', pyspfunct.substring(df_boletero_2.value, 2, 7))\\\n",
    "                             .withColumn('repartodigital', pyspfunct.substring(df_boletero_2.value, -3507, 1))"
   ]
  },
  {
   "cell_type": "code",
   "execution_count": 157,
   "id": "6ac72f41",
   "metadata": {},
   "outputs": [],
   "source": [
    "df_boletero_1 = df_boletero_1.withColumn('suministro', pyspfunct.substring(df_boletero_1.value, 2, 7))\\\n",
    "                             .withColumn('repartodigital', pyspfunct.substring(df_boletero_1.value, -3507, 1))"
   ]
  },
  {
   "cell_type": "code",
   "execution_count": 160,
   "id": "9b6369bf",
   "metadata": {},
   "outputs": [
    {
     "name": "stdout",
     "output_type": "stream",
     "text": [
      "+--------------------+----------+--------------+\n",
      "|               value|suministro|repartodigital|\n",
      "+--------------------+----------+--------------+\n",
      "|12861368HUAMAN RO...|   2861368|             N|\n",
      "|10002867OGOSI ATU...|   0002867|             N|\n",
      "|10002866OGOSI CON...|   0002866|             N|\n",
      "|10002865RUIZ ROMA...|   0002865|             N|\n",
      "|10002864CIPRIANO ...|   0002864|             N|\n",
      "+--------------------+----------+--------------+\n",
      "only showing top 5 rows\n",
      "\n"
     ]
    }
   ],
   "source": [
    "df_boletero_1.show(5)"
   ]
  },
  {
   "cell_type": "code",
   "execution_count": 161,
   "id": "d0240180",
   "metadata": {},
   "outputs": [
    {
     "name": "stdout",
     "output_type": "stream",
     "text": [
      "+--------------------+----------+--------------+\n",
      "|               value|suministro|repartodigital|\n",
      "+--------------------+----------+--------------+\n",
      "|10600738INCA ISUI...|   0600738|             N|\n",
      "|10834151ZAMALLOA ...|   0834151|             N|\n",
      "|13001679CABRERA R...|   3001679|             N|\n",
      "|13001677CABRERA R...|   3001677|             N|\n",
      "|13001676CABRERA R...|   3001676|             N|\n",
      "+--------------------+----------+--------------+\n",
      "only showing top 5 rows\n",
      "\n"
     ]
    }
   ],
   "source": [
    "df_boletero_2.show(5)"
   ]
  },
  {
   "cell_type": "markdown",
   "id": "3dbc4cd2",
   "metadata": {},
   "source": [
    "## Unimos las dos dataframe en uno e liminamos la columna \"value\""
   ]
  },
  {
   "cell_type": "code",
   "execution_count": 165,
   "id": "cf163c15",
   "metadata": {},
   "outputs": [],
   "source": [
    "df_boletero = df_boletero_1.union(df_boletero_2)\n",
    "df_boletero = df_boletero.drop('value')"
   ]
  },
  {
   "cell_type": "code",
   "execution_count": 166,
   "id": "11d44384",
   "metadata": {},
   "outputs": [
    {
     "data": {
      "text/plain": [
       "80196"
      ]
     },
     "execution_count": 166,
     "metadata": {},
     "output_type": "execute_result"
    }
   ],
   "source": [
    "df_boletero.count()"
   ]
  },
  {
   "cell_type": "code",
   "execution_count": 168,
   "id": "0f8e5532",
   "metadata": {},
   "outputs": [
    {
     "name": "stdout",
     "output_type": "stream",
     "text": [
      "+----------+--------------+\n",
      "|suministro|repartodigital|\n",
      "+----------+--------------+\n",
      "|   2861368|             N|\n",
      "|   0002867|             N|\n",
      "|   0002866|             N|\n",
      "|   0002865|             N|\n",
      "|   0002864|             N|\n",
      "+----------+--------------+\n",
      "only showing top 5 rows\n",
      "\n"
     ]
    }
   ],
   "source": [
    "df_boletero.show(5)"
   ]
  },
  {
   "cell_type": "code",
   "execution_count": 169,
   "id": "5b1cd6d3",
   "metadata": {},
   "outputs": [
    {
     "name": "stdout",
     "output_type": "stream",
     "text": [
      "root\n",
      " |-- suministro: string (nullable = true)\n",
      " |-- repartodigital: string (nullable = true)\n",
      "\n"
     ]
    }
   ],
   "source": [
    "df_boletero.printSchema()"
   ]
  },
  {
   "cell_type": "markdown",
   "id": "867e32dd",
   "metadata": {},
   "source": [
    "## Cambiamos de tipo de dato de la columna suministro a integer"
   ]
  },
  {
   "cell_type": "code",
   "execution_count": 170,
   "id": "2171623d",
   "metadata": {},
   "outputs": [],
   "source": [
    "df_boletero = df_boletero.withColumn('suministro',df_boletero.suministro.cast('int'))"
   ]
  },
  {
   "cell_type": "code",
   "execution_count": 171,
   "id": "01c53a14",
   "metadata": {},
   "outputs": [
    {
     "name": "stdout",
     "output_type": "stream",
     "text": [
      "root\n",
      " |-- suministro: integer (nullable = true)\n",
      " |-- repartodigital: string (nullable = true)\n",
      "\n"
     ]
    }
   ],
   "source": [
    "df_boletero.printSchema()"
   ]
  },
  {
   "cell_type": "code",
   "execution_count": 173,
   "id": "0dd73d1d",
   "metadata": {},
   "outputs": [
    {
     "name": "stdout",
     "output_type": "stream",
     "text": [
      "+----------+--------------+\n",
      "|suministro|repartodigital|\n",
      "+----------+--------------+\n",
      "|   2861368|             N|\n",
      "|      2867|             N|\n",
      "|      2866|             N|\n",
      "|      2865|             N|\n",
      "|      2864|             N|\n",
      "+----------+--------------+\n",
      "only showing top 5 rows\n",
      "\n"
     ]
    }
   ],
   "source": [
    "df_boletero.show(5)"
   ]
  },
  {
   "cell_type": "markdown",
   "id": "fcc16da7",
   "metadata": {},
   "source": [
    "## Query al dataset"
   ]
  },
  {
   "cell_type": "code",
   "execution_count": 175,
   "id": "cd0c0866",
   "metadata": {},
   "outputs": [
    {
     "name": "stdout",
     "output_type": "stream",
     "text": [
      "+--------------+-----+\n",
      "|repartodigital|count|\n",
      "+--------------+-----+\n",
      "|             N|80168|\n",
      "|              |    1|\n",
      "|             S|   27|\n",
      "+--------------+-----+\n",
      "\n"
     ]
    }
   ],
   "source": [
    "df_boletero.groupBy(\"repartodigital\").count().show()"
   ]
  },
  {
   "cell_type": "code",
   "execution_count": 176,
   "id": "cd5afaec",
   "metadata": {},
   "outputs": [
    {
     "name": "stdout",
     "output_type": "stream",
     "text": [
      "+----------+--------------+\n",
      "|suministro|repartodigital|\n",
      "+----------+--------------+\n",
      "|   2861368|             N|\n",
      "|      2867|             N|\n",
      "|      2866|             N|\n",
      "|      2865|             N|\n",
      "|      2864|             N|\n",
      "+----------+--------------+\n",
      "only showing top 5 rows\n",
      "\n"
     ]
    }
   ],
   "source": [
    "df_boletero.filter(\"repartodigital == 'N'\").show(5)"
   ]
  },
  {
   "cell_type": "code",
   "execution_count": 177,
   "id": "680e2cd6",
   "metadata": {},
   "outputs": [
    {
     "name": "stdout",
     "output_type": "stream",
     "text": [
      "+----------+--------------+\n",
      "|suministro|repartodigital|\n",
      "+----------+--------------+\n",
      "|   1331193|             S|\n",
      "|   2349333|             S|\n",
      "|   2269688|             S|\n",
      "|    893463|             S|\n",
      "|   1765877|             S|\n",
      "+----------+--------------+\n",
      "only showing top 5 rows\n",
      "\n"
     ]
    }
   ],
   "source": [
    "df_boletero.filter(\"repartodigital == 'S'\").show(5)"
   ]
  },
  {
   "cell_type": "code",
   "execution_count": 179,
   "id": "6b172c15",
   "metadata": {},
   "outputs": [
    {
     "name": "stdout",
     "output_type": "stream",
     "text": [
      "+----------+--------------+\n",
      "|suministro|repartodigital|\n",
      "+----------+--------------+\n",
      "|   2697954|              |\n",
      "+----------+--------------+\n",
      "\n"
     ]
    }
   ],
   "source": [
    "df_boletero.filter(\"repartodigital == ' '\").show(5)"
   ]
  },
  {
   "cell_type": "markdown",
   "id": "94970fa5",
   "metadata": {},
   "source": [
    "## Reemplazando el valor nulo por un valor correcto"
   ]
  },
  {
   "cell_type": "code",
   "execution_count": 181,
   "id": "b9e64ba2",
   "metadata": {},
   "outputs": [],
   "source": [
    "df_boletero = df_boletero.withColumn(\"repartodigital\", pyspfunct.when(df_boletero.suministro == 2697954,'N')\\\n",
    "                                     .otherwise(df_boletero.repartodigital))"
   ]
  },
  {
   "cell_type": "code",
   "execution_count": 182,
   "id": "ff11fef4",
   "metadata": {},
   "outputs": [
    {
     "name": "stdout",
     "output_type": "stream",
     "text": [
      "+--------------+-----+\n",
      "|repartodigital|count|\n",
      "+--------------+-----+\n",
      "|             N|80169|\n",
      "|             S|   27|\n",
      "+--------------+-----+\n",
      "\n"
     ]
    }
   ],
   "source": [
    "df_boletero.groupBy(\"repartodigital\").count().show()"
   ]
  }
 ],
 "metadata": {
  "kernelspec": {
   "display_name": "Python 3 (ipykernel)",
   "language": "python",
   "name": "python3"
  },
  "language_info": {
   "codemirror_mode": {
    "name": "ipython",
    "version": 3
   },
   "file_extension": ".py",
   "mimetype": "text/x-python",
   "name": "python",
   "nbconvert_exporter": "python",
   "pygments_lexer": "ipython3",
   "version": "3.10.8"
  }
 },
 "nbformat": 4,
 "nbformat_minor": 5
}
